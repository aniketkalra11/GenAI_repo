{
 "cells": [
  {
   "cell_type": "markdown",
   "id": "8de61d4c",
   "metadata": {},
   "source": [
    "## Implementation of vanilla GAN(Generative Adverserial Network)"
   ]
  },
  {
   "cell_type": "code",
   "execution_count": 21,
   "id": "0d4f2a28",
   "metadata": {},
   "outputs": [],
   "source": [
    "import torch \n",
    "import torch.nn as nn\n",
    "import torch.functional as f\n",
    "import torch.optim as optim\n",
    "from torch.utils.data import DataLoader \n",
    "import torchvision\n",
    "import torchvision.transforms as transformers\n",
    "import torchvision.datasets as datasets\n",
    "\n",
    "import matplotlib.pyplot as plt"
   ]
  },
  {
   "cell_type": "code",
   "execution_count": 2,
   "id": "fd605e1b",
   "metadata": {},
   "outputs": [
    {
     "name": "stdout",
     "output_type": "stream",
     "text": [
      "Available device is: cuda\n"
     ]
    }
   ],
   "source": [
    "device = 'cuda' if torch.cuda.is_available() else 'cpu'\n",
    "print(f'Available device is: {device}')"
   ]
  },
  {
   "cell_type": "code",
   "execution_count": 4,
   "id": "e7112222",
   "metadata": {},
   "outputs": [
    {
     "name": "stderr",
     "output_type": "stream",
     "text": [
      "100%|██████████| 9.91M/9.91M [00:06<00:00, 1.52MB/s]\n",
      "100%|██████████| 28.9k/28.9k [00:00<00:00, 113kB/s]\n",
      "100%|██████████| 1.65M/1.65M [00:04<00:00, 379kB/s]\n",
      "100%|██████████| 4.54k/4.54k [00:00<00:00, 7.53MB/s]\n"
     ]
    }
   ],
   "source": [
    "transform = transformers.Compose([\n",
    "    transformers.ToTensor(),\n",
    "    transformers.Normalize((0.5, ), (0.5))\n",
    "])\n",
    "# loading dataset\n",
    "\n",
    "MNIST_train = datasets.MNIST(root='/home/aniket-kalra/BS/GenAI_repo/data', train= True, download= True, transform= transform)\n",
    "MNIST_test = datasets.MNIST(root='/home/aniket-kalra/BS/GenAI_repo/data', train= False, download= True)"
   ]
  },
  {
   "cell_type": "code",
   "execution_count": 10,
   "id": "384a43c0",
   "metadata": {},
   "outputs": [
    {
     "data": {
      "text/plain": [
       "<torch.utils.data.dataloader.DataLoader at 0x78d125fefcb0>"
      ]
     },
     "execution_count": 10,
     "metadata": {},
     "output_type": "execute_result"
    }
   ],
   "source": [
    "train_loader = DataLoader(MNIST_train, batch_size= 64, shuffle= True)\n",
    "train_loader\n"
   ]
  },
  {
   "cell_type": "code",
   "execution_count": 14,
   "id": "e42bdb7c",
   "metadata": {},
   "outputs": [],
   "source": [
    "class Generator(nn.Module):\n",
    "    def __init__(self, noise_dim, img_dim):\n",
    "        super(Generator, self).__init__()\n",
    "        self.model = nn.Sequential(\n",
    "            nn.Linear(noise_dim, 128),\n",
    "            nn.ReLU(),\n",
    "            nn.Linear(128, 256),\n",
    "            nn.ReLU(),\n",
    "            nn.Linear(256, 512),\n",
    "            nn.ReLU(),\n",
    "            nn.Linear(512, 1024),\n",
    "            nn.ReLU(),\n",
    "            nn.Linear(1024, 2048),\n",
    "            nn.ReLU(),\n",
    "            nn.Linear(2048, 4096),\n",
    "            nn.ReLU(),\n",
    "            nn.Linear(4096, 2048),\n",
    "            nn.ReLU(),\n",
    "            nn.Linear(2048, 1024),\n",
    "            nn.ReLU(),\n",
    "            nn.Linear(1024, img_dim),\n",
    "            nn.Tanh()\n",
    "        )\n",
    "    \n",
    "    def forward(self, x):\n",
    "        return self.model(x)\n",
    "    \n",
    "\n",
    "class Discriminator(nn.Module):\n",
    "    def __init__(self, img_dim):\n",
    "        super(Discriminator, self).__init__()\n",
    "        self.model = nn.Sequential(\n",
    "            nn.Linear(img_dim, 1024),\n",
    "            nn.ReLU(),\n",
    "            nn.Linear(1024, 512),\n",
    "            nn.ReLU(),\n",
    "            nn.Linear(512, 256),\n",
    "            nn.ReLU(),\n",
    "            nn.Linear(256, 128),\n",
    "            nn.ReLU(),\n",
    "            nn.Linear(128, 64),\n",
    "            nn.ReLU(),\n",
    "            nn.Linear(64, 32),\n",
    "            nn.ReLU(),\n",
    "            nn.Linear(32, 16),\n",
    "            nn.ReLU(),\n",
    "            nn.Linear(16, 8),\n",
    "            nn.ReLU(),\n",
    "            nn.Linear(8, 4),\n",
    "            nn.ReLU(),\n",
    "            nn.Linear(4,2),\n",
    "            nn.Sigmoid(),\n",
    "        )\n",
    "    def forward(self, z):\n",
    "        return self.model(z)"
   ]
  },
  {
   "cell_type": "code",
   "execution_count": 19,
   "id": "72f6f0b3",
   "metadata": {},
   "outputs": [],
   "source": [
    "noise_dim = 100\n",
    "img_dim = 28*28\n",
    "generator = Generator(noise_dim=noise_dim, img_dim= img_dim).to(device)\n",
    "discriminator = Discriminator(img_dim=img_dim).to(device)\n",
    "\n",
    "# optimizers \n",
    "g_optim = optim.Adam(generator.parameters(), lr= 0.0002)\n",
    "d_optim = optim.Adam(discriminator.parameters(), lr= 0.0002)\n",
    "\n",
    "# loss\n",
    "criterion = nn.BCELoss()\n"
   ]
  },
  {
   "cell_type": "code",
   "execution_count": 22,
   "id": "c67da1f2",
   "metadata": {},
   "outputs": [],
   "source": [
    "def show_generated_images(epoch, generator, fixed_noise):\n",
    "    generator.eval()\n",
    "    with torch.no_grad():\n",
    "        fake_imgs = generator(fixed_noise).reshape(-1, 1, 28, 28)\n",
    "        fake_imgs = fake_imgs * 0.5 + 0.5\n",
    "    grid = torchvision.utils.make_grid(fake_imgs, nrow= 8)\n",
    "    plt.figure(figsize=(8, 8))\n",
    "    plt.imshow(grid.permute(1, 2, 0).cup().numpy())\n",
    "    plt.show()\n",
    "    generator.train()"
   ]
  },
  {
   "cell_type": "code",
   "execution_count": null,
   "id": "96eb53ee",
   "metadata": {},
   "outputs": [],
   "source": [
    "\n",
    "def train_gan(train_loader, epochs, mode='one_on_one'):\n",
    "    fixed_noise = torch.randn(64, noise_dim).to(device)\n",
    "    for epoch in range(epochs):\n",
    "        for batch_idx , (real, _) in enumerate(train_loader):\n",
    "            batch_size = real.size(0)\n",
    "            real = real.view(batch_size, -1).to(device)\n",
    "\n",
    "            #Create real and fake labels\n",
    "            real_labels = torch.ones(batch_size, 1, device= device)\n",
    "            fake_labels = torch.zeros(batch_size, 1, device= device)\n",
    "\n",
    "            ### Train Discriminator\n",
    "\n",
    "## will do it tomorrow"
   ]
  }
 ],
 "metadata": {
  "kernelspec": {
   "display_name": "DL_purv",
   "language": "python",
   "name": "python3"
  },
  "language_info": {
   "codemirror_mode": {
    "name": "ipython",
    "version": 3
   },
   "file_extension": ".py",
   "mimetype": "text/x-python",
   "name": "python",
   "nbconvert_exporter": "python",
   "pygments_lexer": "ipython3",
   "version": "3.12.3"
  }
 },
 "nbformat": 4,
 "nbformat_minor": 5
}
