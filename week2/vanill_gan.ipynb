{
 "cells": [
  {
   "cell_type": "markdown",
   "id": "c8b8974c",
   "metadata": {},
   "source": [
    "### Vanilla GAN(Generative Adverserial Network) implementation using pytorch"
   ]
  },
  {
   "cell_type": "markdown",
   "id": "286c900e",
   "metadata": {},
   "source": [
    "#### Imports and dataset loading for mnist dataset,"
   ]
  },
  {
   "cell_type": "code",
   "execution_count": 21,
   "id": "23ec5d3b",
   "metadata": {},
   "outputs": [
    {
     "name": "stdout",
     "output_type": "stream",
     "text": [
      "cpu\n"
     ]
    }
   ],
   "source": [
    "import torch\n",
    "import torch.nn as nn\n",
    "import torch.nn.functional as F\n",
    "import torchvision\n",
    "from torchvision import datasets\n",
    "from torchvision.transforms import ToTensor, Lambda, transforms\n",
    "import matplotlib.pyplot as plt\n",
    "device = torch.device(\"cuda\" if torch.cuda.is_available() else \"cpu\") # GPU is not wirking, so using CPU\n",
    "device = 'cpu'\n",
    "print(device)"
   ]
  },
  {
   "cell_type": "code",
   "execution_count": 16,
   "id": "9c67c173",
   "metadata": {},
   "outputs": [],
   "source": [
    "mnist_data = datasets.FashionMNIST(\n",
    "    root= '../data',\n",
    "    train= True,\n",
    "    download= True,\n",
    "    transform= ToTensor(),\n",
    "    target_transform= Lambda(lambda y: torch.zeros(10, dtype= torch.float).scatter_(0, torch.tensor(y), value=1))\n",
    ")\n",
    "transform = transforms.Compose([\n",
    "    transforms.ToTensor(),\n",
    "    transforms.Normalize((0.5,), (0.5,))\n",
    "])\n",
    "train_dataset = datasets.FashionMNIST(root='../data', train= True, download= True, transform= transform)\n",
    "train_loader = torch.utils.data.DataLoader(train_dataset, batch_size= 128, shuffle= True)\n"
   ]
  },
  {
   "cell_type": "markdown",
   "id": "666b0ca0",
   "metadata": {},
   "source": [
    "#### Model Generation code\n",
    "* decalre the model with model"
   ]
  },
  {
   "cell_type": "code",
   "execution_count": 19,
   "id": "3aca56d1",
   "metadata": {},
   "outputs": [],
   "source": [
    "class Generator(nn.Module):\n",
    "    def __init__(self, input_dim= 100, output_dim= 784):\n",
    "        super(Generator, self).__init__()\n",
    "        self.model = nn.Sequential(\n",
    "            nn.Linear(input_dim, 256),\n",
    "            nn.ReLU(),\n",
    "            nn.Linear(256, 512),\n",
    "            nn.ReLU(),\n",
    "            nn.Linear(512, 1024),\n",
    "            nn.ReLU(),\n",
    "            nn.Linear(1024, output_dim),\n",
    "            nn.Tanh() #Because we normalized image to [-1, 1] range\n",
    "        )\n",
    "\n",
    "    def forward(self, x):\n",
    "        return self.model(x)\n",
    "\n",
    "class Discriminator(nn.Module):\n",
    "    def __init__(self, input_dim= 784):\n",
    "        super(Discriminator, self).__init__()\n",
    "        self.model = nn.Sequential(\n",
    "            nn.Linear(input_dim, 1024),\n",
    "            nn.LeakyReLU(0.2),\n",
    "            nn.Linear(1024, 512),\n",
    "            nn.LeakyReLU(0.2),\n",
    "            nn.Linear(512, 256),\n",
    "            nn.LeakyReLU(0.2),\n",
    "            nn.Linear(256, 1),\n",
    "            nn.Sigmoid() # Output probability\n",
    "        )\n",
    "        \n",
    "    def forward(self, x):\n",
    "        return self.model(x)\n",
    "    "
   ]
  },
  {
   "cell_type": "code",
   "execution_count": 20,
   "id": "8892aa13",
   "metadata": {},
   "outputs": [],
   "source": [
    "noise_dim = 100\n",
    "image_dim = 28*28\n",
    "#model initialization\n",
    "generator = Generator(input_dim=noise_dim, output_dim=image_dim).to(device)\n",
    "discriminator = Discriminator(input_dim=image_dim).to(device)\n",
    "\n",
    "# Loss and Optimizers\n",
    "g_optimizer = torch.optim.Adam(generator.parameters(), lr= 0.0002)\n",
    "d_optimizer = torch.optim.Adam(discriminator.parameters(), lr= 0.0002)\n",
    "\n",
    "# Loss function\n",
    "criterion = nn.BCELoss()"
   ]
  },
  {
   "cell_type": "code",
   "execution_count": 22,
   "id": "3a27dc3e",
   "metadata": {},
   "outputs": [],
   "source": [
    "def show_generated_images(epoch, generator, fixed_noise):\n",
    "    generator.eval()\n",
    "    with torch.no_grad():\n",
    "        fake_images = generator(fixed_noise).view(-1, 1, 28, 28)\n",
    "        fake_images = fake_images * 0.5 + 0.5  # Rescale to [0, 1]\n",
    "    grid = torchvision.utils.make_grid(fake_images, nrow= 8)\n",
    "    plt.figure(figsize=(10, 10))\n",
    "    plt.imshow(grid.permute(1, 2, 0).cpu().numpy())\n",
    "    plt.title(f'Epoch {epoch}')\n",
    "    plt.axis('off')\n",
    "    plt.show()"
   ]
  },
  {
   "cell_type": "code",
   "execution_count": null,
   "id": "909bc8e7",
   "metadata": {},
   "outputs": [],
   "source": [
    "def train_generator(generator, train_loader, noise_dim, fixed_noise= None):\n",
    "    if not  fixed_noise:\n",
    "        fixed_noise = torch.randn(64, noise_dim).to(device)\n",
    "    batch_size = train_loader.batch_size\n",
    "    z = torch.randn()\n"
   ]
  },
  {
   "cell_type": "code",
   "execution_count": null,
   "id": "12bb7159",
   "metadata": {},
   "outputs": [],
   "source": [
    "def train_gan(generator, discriminator, data_loader, mode, num_epochs= 50, batch_size= 128, lr= 0.0002):\n",
    "    fixed_noise = torch.randn(64, noise_dim).to(device)  # Fixed noise for generating images\n",
    "    \n",
    "    for epoch in range(num_epochs):\n",
    "        for batch_idx, (real_images, _) in enumerate(data_loader):\n",
    "            batch_size = real_images.size(0)\n",
    "            real = real.view(batch_size, -1).to(device)  # Flatten images\n",
    "\n",
    "            # create real and fake labels\n",
    "            real_labels = torch.ones(batch_size, 1).to(device)\n",
    "            fake_labels = torch.zeros(batch_size, 1).to(device)\n",
    "\n",
    "            ### ======================================================\n",
    "            ### Train Disciminator\n",
    "            ### ======================================================\n",
    "\n",
    "            # real images \n",
    "            outputs = discriminator(real)\n",
    "            d_loss_real = criterion(outputs, real_labels)\n",
    "            real_score = outputs\n",
    "\n",
    "            # fake images\n",
    "            z = torch.randn(batch_size, noise_dim).to(device)\n",
    "            fake = generator(z)\n",
    "            outputs = discriminator(fake.detach())\n",
    "            d_loss_fake = criterion(outputs, fake_labels)\n",
    "            fake_score = outputs\n",
    "\n",
    "            # Total discriminator loss\n",
    "            d_loss = d_loss_real + d_loss_fake\n",
    "\n",
    "            discriminator.zero_grad()\n",
    "            d_loss.backward()\n",
    "            d_optimizer.step()\n",
    "\n",
    "            ### ======================================================\n",
    "            ### Train Generator\n",
    "            ### ======================================================\n",
    "            z = torch.randn(batch_size, noise_dim).to(device)\n",
    "            fake = generator(z)\n",
    "            outputs = discriminator(fake)\n",
    "\n",
    "            g_loss = criterion(outputs, real_labels)\n",
    "\n",
    "            generator.zero_grad()\n",
    "            g_loss.backward()\n",
    "            g_optimizer.step()\n",
    "            if (batch_idx + 1) % 100 == 0:\n",
    "                print(f'Epoch [{epoch+1}/{num_epochs}], Step [{batch_idx+1}/{len(data_loader)}], '\n",
    "                      f'D Loss: {d_loss.item():.4f}, G Loss: {g_loss.item():.4f}, '\n",
    "                      f'D(x): {real_score.mean().item():.2f}, D(G(z)): {fake_score.mean().item():.2f}')\n",
    "            \n",
    "            ### ======================================================\n",
    "            ### 3. Modify according to mode\n",
    "            ### ======================================================\n",
    "\n",
    "            if mode == 'five_gen_one_disc':\n",
    "                # four times generator train\n",
    "                for _ in range(4):\n",
    "                    z = torch.randn(batch_size, noise_dim).to(device)\n",
    "                    fake = generator(z)\n",
    "                    outputs = discriminator(fake)\n",
    "\n",
    "                    g_loss = criterion(outputs, real_labels)\n",
    "                    \n",
    "                    generator.zero_grad()\n",
    "                    g_loss.backward()\n",
    "                    g_optimizer.step()\n",
    "                \n",
    "                # one time discriminator train\n",
    "            elif mode == 'five_disc_one_gen':\n",
    "                for _ in range(4):\n",
    "                    real_labels = torch.ones(batch_size, 1).to(device)\n",
    "                    outputs = discriminator(real)\n",
    "                    real_score = outputs\n",
    "\n",
    "                    d_loss_real = criterion(outputs, real_labels)\n",
    "\n",
    "                    # fake\n",
    "                    z = torch.randn(batch_size, noise_dim).to(device)\n",
    "                    fake = generator(z)\n",
    "                    fake_labels = torch.zeros(batch_size, 1).to(device)\n",
    "                    outputs = discriminator(fake)\n",
    "                    d_loss_fake = criterion(outputs, fake_labels)\n",
    "                    fake_score = d_loss_fake\n",
    "\n",
    "                    d_loss  = real_score + fake_score\n",
    "                    discriminator.zero_grad()\n",
    "                    d_loss.backward()\n",
    "                    discriminator.step()\n",
    "                else:\n",
    "                    print('default mode selected')\n",
    "                \n",
    "            if (epoch + 1) % 5 ==0:\n",
    "                print(f'Epoch[{epoch+1}/{num_epochs}], D_loss: {d_loss.items():.4f}, G_Loss: {g_loss.item():.4f}:')\n",
    "                show_generated_images(epoch+1, generator, fixed_noise)\n",
    "\n",
    "\n",
    "\n",
    "\n",
    "\n",
    "\n",
    "\n"
   ]
  },
  {
   "cell_type": "code",
   "execution_count": 25,
   "id": "42abddb1",
   "metadata": {},
   "outputs": [
    {
     "name": "stdout",
     "output_type": "stream",
     "text": [
      "Training: 1-step gen 1-step disc\n"
     ]
    },
    {
     "ename": "UnboundLocalError",
     "evalue": "cannot access local variable 'real' where it is not associated with a value",
     "output_type": "error",
     "traceback": [
      "\u001b[31m---------------------------------------------------------------------------\u001b[39m",
      "\u001b[31mUnboundLocalError\u001b[39m                         Traceback (most recent call last)",
      "\u001b[36mCell\u001b[39m\u001b[36m \u001b[39m\u001b[32mIn[25]\u001b[39m\u001b[32m, line 3\u001b[39m\n\u001b[32m      1\u001b[39m \u001b[38;5;66;03m## standard training process\u001b[39;00m\n\u001b[32m      2\u001b[39m \u001b[38;5;28mprint\u001b[39m(\u001b[33m\"\u001b[39m\u001b[33mTraining: 1-step gen 1-step disc\u001b[39m\u001b[33m\"\u001b[39m)\n\u001b[32m----> \u001b[39m\u001b[32m3\u001b[39m \u001b[43mtrain_gan\u001b[49m\u001b[43m(\u001b[49m\u001b[43mgenerator\u001b[49m\u001b[43m,\u001b[49m\u001b[43m \u001b[49m\u001b[43mdiscriminator\u001b[49m\u001b[43m,\u001b[49m\u001b[43m \u001b[49m\u001b[43mtrain_loader\u001b[49m\u001b[43m,\u001b[49m\u001b[43m \u001b[49m\u001b[43mmode\u001b[49m\u001b[43m=\u001b[49m\u001b[43m \u001b[49m\u001b[33;43m'\u001b[39;49m\u001b[33;43mdefault\u001b[39;49m\u001b[33;43m'\u001b[39;49m\u001b[43m,\u001b[49m\u001b[43m \u001b[49m\u001b[43mnum_epochs\u001b[49m\u001b[43m=\u001b[49m\u001b[43m \u001b[49m\u001b[32;43m50\u001b[39;49m\u001b[43m)\u001b[49m\n\u001b[32m      5\u001b[39m \u001b[38;5;28mprint\u001b[39m(\u001b[33m'\u001b[39m\u001b[33mtrain 5-gen, 1-step discriminator\u001b[39m\u001b[33m'\u001b[39m)\n\u001b[32m      6\u001b[39m train_gan(generator, discriminator, train_loader, mode=\u001b[33m'\u001b[39m\u001b[33mfive_gen_one_disc\u001b[39m\u001b[33m'\u001b[39m, num_epochs=\u001b[32m50\u001b[39m)\n",
      "\u001b[36mCell\u001b[39m\u001b[36m \u001b[39m\u001b[32mIn[24]\u001b[39m\u001b[32m, line 7\u001b[39m, in \u001b[36mtrain_gan\u001b[39m\u001b[34m(generator, discriminator, data_loader, mode, num_epochs, batch_size, lr)\u001b[39m\n\u001b[32m      5\u001b[39m \u001b[38;5;28;01mfor\u001b[39;00m batch_idx, (real_images, _) \u001b[38;5;129;01min\u001b[39;00m \u001b[38;5;28menumerate\u001b[39m(data_loader):\n\u001b[32m      6\u001b[39m     batch_size = real_images.size(\u001b[32m0\u001b[39m)\n\u001b[32m----> \u001b[39m\u001b[32m7\u001b[39m     real = \u001b[43mreal\u001b[49m.view(batch_size, -\u001b[32m1\u001b[39m).to(device)  \u001b[38;5;66;03m# Flatten images\u001b[39;00m\n\u001b[32m      9\u001b[39m     \u001b[38;5;66;03m# create real and fake labels\u001b[39;00m\n\u001b[32m     10\u001b[39m     real_labels = torch.ones(batch_size, \u001b[32m1\u001b[39m).to(device)\n",
      "\u001b[31mUnboundLocalError\u001b[39m: cannot access local variable 'real' where it is not associated with a value"
     ]
    }
   ],
   "source": [
    "## standard training process\n",
    "print(\"Training: 1-step gen 1-step disc\")\n",
    "train_gan(generator, discriminator, train_loader, mode= 'default', num_epochs= 50)\n",
    "\n",
    "print('train 5-gen, 1-step discriminator')\n",
    "train_gan(generator, discriminator, train_loader, mode='five_gen_one_disc', num_epochs=50)\n",
    "\n",
    "print('train 5-disc, 1-gen')\n",
    "train_gan(generator, discriminator, train_loader, mode='five_disc_one_gen', num_epochs=50)\n"
   ]
  },
  {
   "cell_type": "code",
   "execution_count": null,
   "id": "9a89611f",
   "metadata": {},
   "outputs": [],
   "source": []
  },
  {
   "cell_type": "code",
   "execution_count": null,
   "id": "d141cbe9",
   "metadata": {},
   "outputs": [],
   "source": []
  }
 ],
 "metadata": {
  "kernelspec": {
   "display_name": "venv_bs",
   "language": "python",
   "name": "python3"
  },
  "language_info": {
   "codemirror_mode": {
    "name": "ipython",
    "version": 3
   },
   "file_extension": ".py",
   "mimetype": "text/x-python",
   "name": "python",
   "nbconvert_exporter": "python",
   "pygments_lexer": "ipython3",
   "version": "3.12.3"
  }
 },
 "nbformat": 4,
 "nbformat_minor": 5
}
