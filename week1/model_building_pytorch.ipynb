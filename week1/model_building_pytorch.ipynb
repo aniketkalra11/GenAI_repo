{
 "cells": [
  {
   "cell_type": "code",
   "execution_count": 4,
   "id": "214f5613",
   "metadata": {},
   "outputs": [],
   "source": [
    "import torch\n",
    "from torchvision import datasets\n",
    "from torchvision.transforms import ToTensor, Lambda"
   ]
  },
  {
   "cell_type": "code",
   "execution_count": 6,
   "id": "acff6bca",
   "metadata": {},
   "outputs": [
    {
     "name": "stderr",
     "output_type": "stream",
     "text": [
      "100.0%\n",
      "100.0%\n",
      "100.0%\n",
      "100.0%\n"
     ]
    }
   ],
   "source": [
    "ds = datasets.FashionMNIST(\n",
    "    root='data',\n",
    "    train= True,\n",
    "    download= True,\n",
    "    transform= ToTensor(),\n",
    "    target_transform= Lambda(lambda y: torch.zeros(10, dtype= torch.float).scatter_(0, torch.tensor(y), value=1))\n",
    ")"
   ]
  },
  {
   "cell_type": "code",
   "execution_count": 7,
   "id": "9da26831",
   "metadata": {},
   "outputs": [
    {
     "name": "stdout",
     "output_type": "stream",
     "text": [
      "Using device: cuda\n"
     ]
    }
   ],
   "source": [
    "device = torch.device('cuda' if torch.cuda.is_available() else 'cpu')\n",
    "print(f'Using device: {device}')\n"
   ]
  },
  {
   "cell_type": "code",
   "execution_count": 8,
   "id": "a1a9da93",
   "metadata": {},
   "outputs": [],
   "source": [
    "class NeuralNetwork(torch.nn.Module):\n",
    "    def __init__(self):\n",
    "        super(NeuralNetwork, self).__init__()\n",
    "        self.flatten = torch.nn.Flatten()\n",
    "        self.linear_relu_stack = torch.nn.Sequential(\n",
    "            torch.nn.Linear(28 * 28, 512),\n",
    "            torch.nn.ReLU(),\n",
    "            torch.nn.Linear(512, 512),\n",
    "            torch.nn.ReLU(),\n",
    "            torch.nn.Linear(512, 10)\n",
    "        )\n",
    "\n",
    "    def forward(self, x):\n",
    "        x = self.flatten(x)\n",
    "        logits = self.linear_relu_stack(x)\n",
    "        return logits"
   ]
  },
  {
   "cell_type": "code",
   "execution_count": 12,
   "id": "af4ae5cd",
   "metadata": {},
   "outputs": [
    {
     "name": "stdout",
     "output_type": "stream",
     "text": [
      "Predicted class: 4\n"
     ]
    }
   ],
   "source": [
    "X = torch.rand(1, 28, 28)\n",
    "model = NeuralNetwork()\n",
    "pred_prob = model(X)\n",
    "y_pred = torch.argmax(pred_prob, dim=1)\n",
    "print(f'Predicted class: {y_pred.item()}')"
   ]
  },
  {
   "cell_type": "code",
   "execution_count": 18,
   "id": "fd210151",
   "metadata": {},
   "outputs": [],
   "source": [
    "def training_loop(dataloader, model, loss_fn, optimizer):\n",
    "    size = len(dataloader.dataset)\n",
    "    model.train()\n",
    "    for batch, (X, y) in enumerate(dataloader):\n",
    "        X, y = X, y\n",
    "        pred = model(X)\n",
    "        loss = loss_fn(pred, y)\n",
    "        #Backpropagation\n",
    "        optimizer.zero_grad()\n",
    "        loss.backward()\n",
    "        optimizer.step()\n",
    "        optimizer.zero_grad()\n",
    "        if batch % 100 == 0:\n",
    "            loss, current = loss.item(), batch * len(X)\n",
    "            print(f\"loss: {loss:>7f}  [{current:>5d}/{size:>5d}]\")\n",
    "\n",
    "def test_loop(dataloader, model, loss_fn):\n",
    "    size = len(dataloader.dataset)\n",
    "    num_batches = len(dataloader)\n",
    "    model.eval()\n",
    "    test_loss, correct = 0, 0\n",
    "    with torch.no_grad():\n",
    "        for X, y in dataloader:\n",
    "            X, y = X, y\n",
    "            pred = model(X)\n",
    "            test_loss += loss_fn(pred, y).item()\n",
    "            # correct += (pred.argmax(1) == y).type(torch.float).sum().item()\n",
    "    test_loss /= num_batches\n",
    "    correct /= size\n",
    "    print(f\"Test Error: \\n Accuracy: {(100*correct):>0.1f}%, Avg loss: {test_loss:>8f} \\n\")\n"
   ]
  },
  {
   "cell_type": "code",
   "execution_count": 19,
   "id": "afdf3d8d",
   "metadata": {},
   "outputs": [
    {
     "name": "stdout",
     "output_type": "stream",
     "text": [
      "Epoch 1\n",
      "-------------------------------\n",
      "loss: 1.464138  [    0/60000]\n",
      "loss: 1.471298  [ 6400/60000]\n",
      "loss: 1.471298  [ 6400/60000]\n",
      "loss: 1.339304  [12800/60000]\n",
      "loss: 1.339304  [12800/60000]\n",
      "loss: 1.419005  [19200/60000]\n",
      "loss: 1.419005  [19200/60000]\n",
      "loss: 1.425878  [25600/60000]\n",
      "loss: 1.425878  [25600/60000]\n",
      "loss: 1.286510  [32000/60000]\n",
      "loss: 1.286510  [32000/60000]\n",
      "loss: 1.306510  [38400/60000]\n",
      "loss: 1.306510  [38400/60000]\n",
      "loss: 1.202268  [44800/60000]\n",
      "loss: 1.202268  [44800/60000]\n",
      "loss: 1.309562  [51200/60000]\n",
      "loss: 1.309562  [51200/60000]\n",
      "loss: 1.264597  [57600/60000]\n",
      "loss: 1.264597  [57600/60000]\n",
      "Test Error: \n",
      " Accuracy: 0.0%, Avg loss: 1.234596 \n",
      "\n",
      "Epoch 2\n",
      "-------------------------------\n",
      "loss: 1.398934  [    0/60000]\n",
      "Test Error: \n",
      " Accuracy: 0.0%, Avg loss: 1.234596 \n",
      "\n",
      "Epoch 2\n",
      "-------------------------------\n",
      "loss: 1.398934  [    0/60000]\n",
      "loss: 1.215236  [ 6400/60000]\n",
      "loss: 1.215236  [ 6400/60000]\n",
      "loss: 1.176357  [12800/60000]\n",
      "loss: 1.176357  [12800/60000]\n",
      "loss: 1.082236  [19200/60000]\n",
      "loss: 1.082236  [19200/60000]\n",
      "loss: 1.131299  [25600/60000]\n",
      "loss: 1.131299  [25600/60000]\n",
      "loss: 1.129629  [32000/60000]\n",
      "loss: 1.129629  [32000/60000]\n",
      "loss: 1.129728  [38400/60000]\n",
      "loss: 1.129728  [38400/60000]\n",
      "loss: 1.106367  [44800/60000]\n",
      "loss: 1.106367  [44800/60000]\n",
      "loss: 1.091994  [51200/60000]\n",
      "loss: 1.091994  [51200/60000]\n",
      "loss: 1.014969  [57600/60000]\n",
      "loss: 1.014969  [57600/60000]\n",
      "Test Error: \n",
      " Accuracy: 0.0%, Avg loss: 1.068409 \n",
      "\n",
      "Epoch 3\n",
      "-------------------------------\n",
      "loss: 0.895545  [    0/60000]\n",
      "Test Error: \n",
      " Accuracy: 0.0%, Avg loss: 1.068409 \n",
      "\n",
      "Epoch 3\n",
      "-------------------------------\n",
      "loss: 0.895545  [    0/60000]\n",
      "loss: 1.058309  [ 6400/60000]\n",
      "loss: 1.058309  [ 6400/60000]\n",
      "loss: 1.049052  [12800/60000]\n",
      "loss: 1.049052  [12800/60000]\n",
      "loss: 1.093881  [19200/60000]\n",
      "loss: 1.093881  [19200/60000]\n",
      "loss: 1.067486  [25600/60000]\n",
      "loss: 1.067486  [25600/60000]\n",
      "loss: 1.111779  [32000/60000]\n",
      "loss: 1.111779  [32000/60000]\n",
      "loss: 0.995575  [38400/60000]\n",
      "loss: 0.995575  [38400/60000]\n",
      "loss: 0.907345  [44800/60000]\n",
      "loss: 0.907345  [44800/60000]\n",
      "loss: 1.000355  [51200/60000]\n",
      "loss: 1.000355  [51200/60000]\n",
      "loss: 1.042313  [57600/60000]\n",
      "loss: 1.042313  [57600/60000]\n",
      "Test Error: \n",
      " Accuracy: 0.0%, Avg loss: 0.964729 \n",
      "\n",
      "Epoch 4\n",
      "-------------------------------\n",
      "loss: 1.095986  [    0/60000]\n",
      "Test Error: \n",
      " Accuracy: 0.0%, Avg loss: 0.964729 \n",
      "\n",
      "Epoch 4\n",
      "-------------------------------\n",
      "loss: 1.095986  [    0/60000]\n",
      "loss: 0.889143  [ 6400/60000]\n",
      "loss: 0.889143  [ 6400/60000]\n",
      "loss: 0.939915  [12800/60000]\n",
      "loss: 0.939915  [12800/60000]\n",
      "loss: 0.722282  [19200/60000]\n",
      "loss: 0.722282  [19200/60000]\n",
      "loss: 0.913155  [25600/60000]\n",
      "loss: 0.913155  [25600/60000]\n",
      "loss: 0.923827  [32000/60000]\n",
      "loss: 0.923827  [32000/60000]\n",
      "loss: 0.952768  [38400/60000]\n",
      "loss: 0.952768  [38400/60000]\n",
      "loss: 0.971638  [44800/60000]\n",
      "loss: 0.971638  [44800/60000]\n",
      "loss: 1.025815  [51200/60000]\n",
      "loss: 1.025815  [51200/60000]\n",
      "loss: 0.856479  [57600/60000]\n",
      "loss: 0.856479  [57600/60000]\n",
      "Test Error: \n",
      " Accuracy: 0.0%, Avg loss: 0.894105 \n",
      "\n",
      "Epoch 5\n",
      "-------------------------------\n",
      "loss: 0.866139  [    0/60000]\n",
      "Test Error: \n",
      " Accuracy: 0.0%, Avg loss: 0.894105 \n",
      "\n",
      "Epoch 5\n",
      "-------------------------------\n",
      "loss: 0.866139  [    0/60000]\n",
      "loss: 0.962486  [ 6400/60000]\n",
      "loss: 0.962486  [ 6400/60000]\n",
      "loss: 0.876781  [12800/60000]\n",
      "loss: 0.876781  [12800/60000]\n",
      "loss: 0.948337  [19200/60000]\n",
      "loss: 0.948337  [19200/60000]\n",
      "loss: 0.891198  [25600/60000]\n",
      "loss: 0.891198  [25600/60000]\n",
      "loss: 0.824698  [32000/60000]\n",
      "loss: 0.824698  [32000/60000]\n",
      "loss: 0.800319  [38400/60000]\n",
      "loss: 0.800319  [38400/60000]\n",
      "loss: 0.885283  [44800/60000]\n",
      "loss: 0.885283  [44800/60000]\n",
      "loss: 0.802047  [51200/60000]\n",
      "loss: 0.802047  [51200/60000]\n",
      "loss: 0.880007  [57600/60000]\n",
      "loss: 0.880007  [57600/60000]\n",
      "Test Error: \n",
      " Accuracy: 0.0%, Avg loss: 0.842827 \n",
      "\n",
      "Test Error: \n",
      " Accuracy: 0.0%, Avg loss: 0.842827 \n",
      "\n"
     ]
    }
   ],
   "source": [
    "optimizer = torch.optim.SGD(model.parameters(), lr=1e-3)\n",
    "loss_fn = torch.nn.CrossEntropyLoss()\n",
    "train_dataloader = torch.utils.data.DataLoader(ds, batch_size= 64, shuffle= True)\n",
    "test_dataloader = torch.utils.data.DataLoader(ds, batch_size= 64, shuffle= False)\n",
    "epochs = 5\n",
    "for t in range(epochs):\n",
    "    print(f\"Epoch {t+1}\\n-------------------------------\")\n",
    "    training_loop(train_dataloader, model, loss_fn, optimizer)\n",
    "    test_loop(test_dataloader, model, loss_fn)  "
   ]
  },
  {
   "cell_type": "code",
   "execution_count": 20,
   "id": "9dee8b5e",
   "metadata": {},
   "outputs": [
    {
     "name": "stdout",
     "output_type": "stream",
     "text": [
      "Saved PyTorch Model State to model.pth\n"
     ]
    }
   ],
   "source": [
    "torch.save(model.state_dict(), 'model.pth')\n",
    "print(\"Saved PyTorch Model State to model.pth\")"
   ]
  },
  {
   "cell_type": "code",
   "execution_count": null,
   "id": "4d052d24",
   "metadata": {},
   "outputs": [],
   "source": []
  }
 ],
 "metadata": {
  "kernelspec": {
   "display_name": "DL_purv",
   "language": "python",
   "name": "python3"
  },
  "language_info": {
   "codemirror_mode": {
    "name": "ipython",
    "version": 3
   },
   "file_extension": ".py",
   "mimetype": "text/x-python",
   "name": "python",
   "nbconvert_exporter": "python",
   "pygments_lexer": "ipython3",
   "version": "3.12.3"
  }
 },
 "nbformat": 4,
 "nbformat_minor": 5
}
